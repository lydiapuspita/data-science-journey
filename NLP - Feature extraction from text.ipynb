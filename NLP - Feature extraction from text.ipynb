{
 "cells": [
  {
   "cell_type": "code",
   "execution_count": 3,
   "id": "245e8741",
   "metadata": {},
   "outputs": [],
   "source": [
    "with open('One.txt') as mytext:\n",
    "    a = mytext.read()"
   ]
  },
  {
   "cell_type": "code",
   "execution_count": 4,
   "id": "ba942ff1",
   "metadata": {},
   "outputs": [
    {
     "data": {
      "text/plain": [
       "'This is a story about dogs\\nour canine pets\\nDogs are furry animals\\n'"
      ]
     },
     "execution_count": 4,
     "metadata": {},
     "output_type": "execute_result"
    }
   ],
   "source": [
    "a"
   ]
  },
  {
   "cell_type": "code",
   "execution_count": 5,
   "id": "1b46acb7",
   "metadata": {},
   "outputs": [],
   "source": [
    "with open('One.txt') as mytext:\n",
    "    words_one = mytext.read().lower().split()\n",
    "    uni_words_one = set(words_one)"
   ]
  },
  {
   "cell_type": "code",
   "execution_count": 6,
   "id": "e55618f4",
   "metadata": {},
   "outputs": [
    {
     "data": {
      "text/plain": [
       "{'a',\n",
       " 'about',\n",
       " 'animals',\n",
       " 'are',\n",
       " 'canine',\n",
       " 'dogs',\n",
       " 'furry',\n",
       " 'is',\n",
       " 'our',\n",
       " 'pets',\n",
       " 'story',\n",
       " 'this'}"
      ]
     },
     "execution_count": 6,
     "metadata": {},
     "output_type": "execute_result"
    }
   ],
   "source": [
    "uni_words_one"
   ]
  },
  {
   "cell_type": "code",
   "execution_count": 7,
   "id": "92251e12",
   "metadata": {},
   "outputs": [],
   "source": [
    "with open('Two.txt') as mytext:\n",
    "    words_two = mytext.read().lower().split()\n",
    "    uni_words_two = set(words_two)"
   ]
  },
  {
   "cell_type": "code",
   "execution_count": 8,
   "id": "beb6afb5",
   "metadata": {},
   "outputs": [
    {
     "data": {
      "text/plain": [
       "{'a',\n",
       " 'about',\n",
       " 'catching',\n",
       " 'fun',\n",
       " 'is',\n",
       " 'popular',\n",
       " 'sport',\n",
       " 'story',\n",
       " 'surfing',\n",
       " 'this',\n",
       " 'water',\n",
       " 'waves'}"
      ]
     },
     "execution_count": 8,
     "metadata": {},
     "output_type": "execute_result"
    }
   ],
   "source": [
    "uni_words_two"
   ]
  },
  {
   "cell_type": "code",
   "execution_count": 9,
   "id": "1629a806",
   "metadata": {},
   "outputs": [],
   "source": [
    "all_uni_words = set()\n",
    "all_uni_words.update(uni_words_one)"
   ]
  },
  {
   "cell_type": "code",
   "execution_count": 11,
   "id": "7176ca91",
   "metadata": {},
   "outputs": [],
   "source": [
    "all_uni_words.update(uni_words_two)"
   ]
  },
  {
   "cell_type": "code",
   "execution_count": 12,
   "id": "14ea35dd",
   "metadata": {},
   "outputs": [
    {
     "data": {
      "text/plain": [
       "{'a',\n",
       " 'about',\n",
       " 'animals',\n",
       " 'are',\n",
       " 'canine',\n",
       " 'catching',\n",
       " 'dogs',\n",
       " 'fun',\n",
       " 'furry',\n",
       " 'is',\n",
       " 'our',\n",
       " 'pets',\n",
       " 'popular',\n",
       " 'sport',\n",
       " 'story',\n",
       " 'surfing',\n",
       " 'this',\n",
       " 'water',\n",
       " 'waves'}"
      ]
     },
     "execution_count": 12,
     "metadata": {},
     "output_type": "execute_result"
    }
   ],
   "source": [
    "all_uni_words"
   ]
  },
  {
   "cell_type": "code",
   "execution_count": 13,
   "id": "8b2b8297",
   "metadata": {},
   "outputs": [],
   "source": [
    "full_vocab = dict()\n",
    "i = 0\n",
    "\n",
    "for word in all_uni_words:\n",
    "    full_vocab[word] = i\n",
    "    i = i + 1"
   ]
  },
  {
   "cell_type": "code",
   "execution_count": 14,
   "id": "ceef5f4d",
   "metadata": {},
   "outputs": [
    {
     "data": {
      "text/plain": [
       "{'about': 0,\n",
       " 'are': 1,\n",
       " 'is': 2,\n",
       " 'canine': 3,\n",
       " 'fun': 4,\n",
       " 'this': 5,\n",
       " 'pets': 6,\n",
       " 'sport': 7,\n",
       " 'dogs': 8,\n",
       " 'animals': 9,\n",
       " 'surfing': 10,\n",
       " 'furry': 11,\n",
       " 'waves': 12,\n",
       " 'story': 13,\n",
       " 'a': 14,\n",
       " 'water': 15,\n",
       " 'catching': 16,\n",
       " 'popular': 17,\n",
       " 'our': 18}"
      ]
     },
     "execution_count": 14,
     "metadata": {},
     "output_type": "execute_result"
    }
   ],
   "source": [
    "full_vocab"
   ]
  },
  {
   "cell_type": "code",
   "execution_count": 15,
   "id": "bc4a82b1",
   "metadata": {},
   "outputs": [],
   "source": [
    "one_freq = [0] * len(full_vocab)\n",
    "two_freq = [0] * len(full_vocab)\n",
    "all_words = ['']*len(full_vocab)"
   ]
  },
  {
   "cell_type": "code",
   "execution_count": 16,
   "id": "0efb579a",
   "metadata": {},
   "outputs": [
    {
     "data": {
      "text/plain": [
       "[0, 0, 0, 0, 0, 0, 0, 0, 0, 0, 0, 0, 0, 0, 0, 0, 0, 0, 0]"
      ]
     },
     "execution_count": 16,
     "metadata": {},
     "output_type": "execute_result"
    }
   ],
   "source": [
    "one_freq"
   ]
  },
  {
   "cell_type": "code",
   "execution_count": 17,
   "id": "b726f574",
   "metadata": {},
   "outputs": [],
   "source": [
    "with open('One.txt') as f:\n",
    "    one_text = f.read().lower().split()"
   ]
  },
  {
   "cell_type": "code",
   "execution_count": 18,
   "id": "a9613829",
   "metadata": {},
   "outputs": [
    {
     "data": {
      "text/plain": [
       "['this',\n",
       " 'is',\n",
       " 'a',\n",
       " 'story',\n",
       " 'about',\n",
       " 'dogs',\n",
       " 'our',\n",
       " 'canine',\n",
       " 'pets',\n",
       " 'dogs',\n",
       " 'are',\n",
       " 'furry',\n",
       " 'animals']"
      ]
     },
     "execution_count": 18,
     "metadata": {},
     "output_type": "execute_result"
    }
   ],
   "source": [
    "one_text"
   ]
  },
  {
   "cell_type": "code",
   "execution_count": 19,
   "id": "67227a9e",
   "metadata": {},
   "outputs": [],
   "source": [
    "for word in one_text:\n",
    "    word_ind = full_vocab[word]\n",
    "    one_freq[word_ind] += 1"
   ]
  },
  {
   "cell_type": "code",
   "execution_count": 20,
   "id": "9e3f605d",
   "metadata": {},
   "outputs": [
    {
     "data": {
      "text/plain": [
       "[1, 1, 1, 1, 0, 1, 1, 0, 2, 1, 0, 1, 0, 1, 1, 0, 0, 0, 1]"
      ]
     },
     "execution_count": 20,
     "metadata": {},
     "output_type": "execute_result"
    }
   ],
   "source": [
    "one_freq"
   ]
  },
  {
   "cell_type": "code",
   "execution_count": 29,
   "id": "3ba83ca5",
   "metadata": {},
   "outputs": [],
   "source": [
    "with open('Two.txt') as f:\n",
    "    two_text = f.read().lower().split()"
   ]
  },
  {
   "cell_type": "code",
   "execution_count": 30,
   "id": "f75c38e2",
   "metadata": {},
   "outputs": [
    {
     "data": {
      "text/plain": [
       "['this',\n",
       " 'story',\n",
       " 'is',\n",
       " 'about',\n",
       " 'surfing',\n",
       " 'catching',\n",
       " 'waves',\n",
       " 'is',\n",
       " 'fun',\n",
       " 'surfing',\n",
       " 'is',\n",
       " 'a',\n",
       " 'popular',\n",
       " 'water',\n",
       " 'sport']"
      ]
     },
     "execution_count": 30,
     "metadata": {},
     "output_type": "execute_result"
    }
   ],
   "source": [
    "two_text"
   ]
  },
  {
   "cell_type": "code",
   "execution_count": 31,
   "id": "3dfda4ce",
   "metadata": {},
   "outputs": [
    {
     "data": {
      "text/plain": [
       "[1, 0, 3, 0, 1, 1, 0, 1, 0, 0, 2, 0, 1, 1, 1, 1, 1, 1, 0]"
      ]
     },
     "execution_count": 31,
     "metadata": {},
     "output_type": "execute_result"
    }
   ],
   "source": [
    "two_freq"
   ]
  },
  {
   "cell_type": "code",
   "execution_count": 32,
   "id": "1a7911a6",
   "metadata": {},
   "outputs": [],
   "source": [
    "for word in two_text:\n",
    "    word_ind = full_vocab[word]\n",
    "    two_freq[word_ind] += 1"
   ]
  },
  {
   "cell_type": "code",
   "execution_count": 33,
   "id": "33a4f450",
   "metadata": {},
   "outputs": [
    {
     "data": {
      "text/plain": [
       "['', '', '', '', '', '', '', '', '', '', '', '', '', '', '', '', '', '', '']"
      ]
     },
     "execution_count": 33,
     "metadata": {},
     "output_type": "execute_result"
    }
   ],
   "source": [
    "all_words"
   ]
  },
  {
   "cell_type": "code",
   "execution_count": 34,
   "id": "4aecb12c",
   "metadata": {},
   "outputs": [],
   "source": [
    "for word in full_vocab:\n",
    "    word_ind = full_vocab[word]\n",
    "    all_words[word_ind]=word"
   ]
  },
  {
   "cell_type": "code",
   "execution_count": 35,
   "id": "4fb6722a",
   "metadata": {},
   "outputs": [
    {
     "data": {
      "text/plain": [
       "['about',\n",
       " 'are',\n",
       " 'is',\n",
       " 'canine',\n",
       " 'fun',\n",
       " 'this',\n",
       " 'pets',\n",
       " 'sport',\n",
       " 'dogs',\n",
       " 'animals',\n",
       " 'surfing',\n",
       " 'furry',\n",
       " 'waves',\n",
       " 'story',\n",
       " 'a',\n",
       " 'water',\n",
       " 'catching',\n",
       " 'popular',\n",
       " 'our']"
      ]
     },
     "execution_count": 35,
     "metadata": {},
     "output_type": "execute_result"
    }
   ],
   "source": [
    "all_words"
   ]
  },
  {
   "cell_type": "code",
   "execution_count": 36,
   "id": "8849cd26",
   "metadata": {},
   "outputs": [],
   "source": [
    "import pandas as pd\n",
    "bow = pd.DataFrame([one_freq,two_freq],columns=all_words)"
   ]
  },
  {
   "cell_type": "code",
   "execution_count": 37,
   "id": "88deeb4e",
   "metadata": {},
   "outputs": [
    {
     "data": {
      "text/html": [
       "<div>\n",
       "<style scoped>\n",
       "    .dataframe tbody tr th:only-of-type {\n",
       "        vertical-align: middle;\n",
       "    }\n",
       "\n",
       "    .dataframe tbody tr th {\n",
       "        vertical-align: top;\n",
       "    }\n",
       "\n",
       "    .dataframe thead th {\n",
       "        text-align: right;\n",
       "    }\n",
       "</style>\n",
       "<table border=\"1\" class=\"dataframe\">\n",
       "  <thead>\n",
       "    <tr style=\"text-align: right;\">\n",
       "      <th></th>\n",
       "      <th>about</th>\n",
       "      <th>are</th>\n",
       "      <th>is</th>\n",
       "      <th>canine</th>\n",
       "      <th>fun</th>\n",
       "      <th>this</th>\n",
       "      <th>pets</th>\n",
       "      <th>sport</th>\n",
       "      <th>dogs</th>\n",
       "      <th>animals</th>\n",
       "      <th>surfing</th>\n",
       "      <th>furry</th>\n",
       "      <th>waves</th>\n",
       "      <th>story</th>\n",
       "      <th>a</th>\n",
       "      <th>water</th>\n",
       "      <th>catching</th>\n",
       "      <th>popular</th>\n",
       "      <th>our</th>\n",
       "    </tr>\n",
       "  </thead>\n",
       "  <tbody>\n",
       "    <tr>\n",
       "      <th>0</th>\n",
       "      <td>1</td>\n",
       "      <td>1</td>\n",
       "      <td>1</td>\n",
       "      <td>1</td>\n",
       "      <td>0</td>\n",
       "      <td>1</td>\n",
       "      <td>1</td>\n",
       "      <td>0</td>\n",
       "      <td>2</td>\n",
       "      <td>1</td>\n",
       "      <td>0</td>\n",
       "      <td>1</td>\n",
       "      <td>0</td>\n",
       "      <td>1</td>\n",
       "      <td>1</td>\n",
       "      <td>0</td>\n",
       "      <td>0</td>\n",
       "      <td>0</td>\n",
       "      <td>1</td>\n",
       "    </tr>\n",
       "    <tr>\n",
       "      <th>1</th>\n",
       "      <td>2</td>\n",
       "      <td>0</td>\n",
       "      <td>6</td>\n",
       "      <td>0</td>\n",
       "      <td>2</td>\n",
       "      <td>2</td>\n",
       "      <td>0</td>\n",
       "      <td>2</td>\n",
       "      <td>0</td>\n",
       "      <td>0</td>\n",
       "      <td>4</td>\n",
       "      <td>0</td>\n",
       "      <td>2</td>\n",
       "      <td>2</td>\n",
       "      <td>2</td>\n",
       "      <td>2</td>\n",
       "      <td>2</td>\n",
       "      <td>2</td>\n",
       "      <td>0</td>\n",
       "    </tr>\n",
       "  </tbody>\n",
       "</table>\n",
       "</div>"
      ],
      "text/plain": [
       "   about  are  is  canine  fun  this  pets  sport  dogs  animals  surfing  \\\n",
       "0      1    1   1       1    0     1     1      0     2        1        0   \n",
       "1      2    0   6       0    2     2     0      2     0        0        4   \n",
       "\n",
       "   furry  waves  story  a  water  catching  popular  our  \n",
       "0      1      0      1  1      0         0        0    1  \n",
       "1      0      2      2  2      2         2        2    0  "
      ]
     },
     "execution_count": 37,
     "metadata": {},
     "output_type": "execute_result"
    }
   ],
   "source": [
    "bow"
   ]
  },
  {
   "cell_type": "markdown",
   "id": "f692e8a6",
   "metadata": {},
   "source": [
    "### Utilizing Scikit Learn"
   ]
  },
  {
   "cell_type": "code",
   "execution_count": 38,
   "id": "e9ceed8b",
   "metadata": {},
   "outputs": [],
   "source": [
    "text = ['This is a line',\n",
    "       'This is another line',\n",
    "       'Completely different line']"
   ]
  },
  {
   "cell_type": "code",
   "execution_count": 39,
   "id": "3f17e5ae",
   "metadata": {},
   "outputs": [],
   "source": [
    "from sklearn.feature_extraction.text import CountVectorizer"
   ]
  },
  {
   "cell_type": "code",
   "execution_count": 49,
   "id": "9b3c2a80",
   "metadata": {},
   "outputs": [],
   "source": [
    "cv = CountVectorizer()"
   ]
  },
  {
   "cell_type": "code",
   "execution_count": 50,
   "id": "598a45c6",
   "metadata": {},
   "outputs": [],
   "source": [
    "sparse_matrix = cv.fit_transform(text)"
   ]
  },
  {
   "cell_type": "code",
   "execution_count": 51,
   "id": "e9e98cae",
   "metadata": {},
   "outputs": [
    {
     "data": {
      "text/plain": [
       "matrix([[0, 0, 0, 1, 1, 1],\n",
       "        [1, 0, 0, 1, 1, 1],\n",
       "        [0, 1, 1, 0, 1, 0]], dtype=int64)"
      ]
     },
     "execution_count": 51,
     "metadata": {},
     "output_type": "execute_result"
    }
   ],
   "source": [
    "sparse_matrix.todense()"
   ]
  },
  {
   "cell_type": "code",
   "execution_count": 52,
   "id": "a4741bdd",
   "metadata": {},
   "outputs": [
    {
     "data": {
      "text/plain": [
       "{'this': 5, 'is': 3, 'line': 4, 'another': 0, 'completely': 1, 'different': 2}"
      ]
     },
     "execution_count": 52,
     "metadata": {},
     "output_type": "execute_result"
    }
   ],
   "source": [
    "cv.vocabulary_"
   ]
  },
  {
   "cell_type": "code",
   "execution_count": 44,
   "id": "e4be853d",
   "metadata": {},
   "outputs": [],
   "source": [
    "#cv = CountVectorizer(stop_words='english')"
   ]
  },
  {
   "cell_type": "code",
   "execution_count": 45,
   "id": "3901ac36",
   "metadata": {},
   "outputs": [],
   "source": [
    "#sparse_matrix = cv.fit_transform(text)"
   ]
  },
  {
   "cell_type": "code",
   "execution_count": 46,
   "id": "8eda4292",
   "metadata": {},
   "outputs": [
    {
     "data": {
      "text/plain": [
       "matrix([[0, 0, 1],\n",
       "        [0, 0, 1],\n",
       "        [1, 1, 1]], dtype=int64)"
      ]
     },
     "execution_count": 46,
     "metadata": {},
     "output_type": "execute_result"
    }
   ],
   "source": [
    "#sparse_matrix.todense()"
   ]
  },
  {
   "cell_type": "code",
   "execution_count": 47,
   "id": "b4c6ef64",
   "metadata": {},
   "outputs": [
    {
     "data": {
      "text/plain": [
       "{'line': 2, 'completely': 0, 'different': 1}"
      ]
     },
     "execution_count": 47,
     "metadata": {},
     "output_type": "execute_result"
    }
   ],
   "source": [
    "#cv.vocabulary_"
   ]
  },
  {
   "cell_type": "code",
   "execution_count": 48,
   "id": "5667c3d0",
   "metadata": {},
   "outputs": [],
   "source": [
    "from sklearn.feature_extraction.text import TfidfTransformer"
   ]
  },
  {
   "cell_type": "code",
   "execution_count": 57,
   "id": "1822e4b5",
   "metadata": {},
   "outputs": [],
   "source": [
    "tfidf = TfidfTransformer()"
   ]
  },
  {
   "cell_type": "code",
   "execution_count": 58,
   "id": "d9a85d86",
   "metadata": {},
   "outputs": [],
   "source": [
    "results = tfidf.fit_transform(sparse_matrix) # BOW --> TF-IDF"
   ]
  },
  {
   "cell_type": "code",
   "execution_count": 59,
   "id": "494e1708",
   "metadata": {},
   "outputs": [
    {
     "data": {
      "text/plain": [
       "<3x6 sparse matrix of type '<class 'numpy.float64'>'\n",
       "\twith 10 stored elements in Compressed Sparse Row format>"
      ]
     },
     "execution_count": 59,
     "metadata": {},
     "output_type": "execute_result"
    }
   ],
   "source": [
    "results"
   ]
  },
  {
   "cell_type": "code",
   "execution_count": 60,
   "id": "42376a39",
   "metadata": {},
   "outputs": [
    {
     "data": {
      "text/plain": [
       "matrix([[0.        , 0.        , 0.        , 0.61980538, 0.48133417,\n",
       "         0.61980538],\n",
       "        [0.63174505, 0.        , 0.        , 0.4804584 , 0.37311881,\n",
       "         0.4804584 ],\n",
       "        [0.        , 0.65249088, 0.65249088, 0.        , 0.38537163,\n",
       "         0.        ]])"
      ]
     },
     "execution_count": 60,
     "metadata": {},
     "output_type": "execute_result"
    }
   ],
   "source": [
    "results.todense()"
   ]
  },
  {
   "cell_type": "code",
   "execution_count": 61,
   "id": "4460b53b",
   "metadata": {},
   "outputs": [],
   "source": [
    "from sklearn.feature_extraction.text import TfidfVectorizer"
   ]
  },
  {
   "cell_type": "code",
   "execution_count": 62,
   "id": "3f3008a3",
   "metadata": {},
   "outputs": [],
   "source": [
    "tv = TfidfVectorizer()"
   ]
  },
  {
   "cell_type": "code",
   "execution_count": 63,
   "id": "844221ba",
   "metadata": {},
   "outputs": [],
   "source": [
    "tv_results = tv.fit_transform(text)"
   ]
  },
  {
   "cell_type": "code",
   "execution_count": 64,
   "id": "34c0419d",
   "metadata": {},
   "outputs": [
    {
     "data": {
      "text/plain": [
       "<3x6 sparse matrix of type '<class 'numpy.float64'>'\n",
       "\twith 10 stored elements in Compressed Sparse Row format>"
      ]
     },
     "execution_count": 64,
     "metadata": {},
     "output_type": "execute_result"
    }
   ],
   "source": [
    "tv_results"
   ]
  },
  {
   "cell_type": "code",
   "execution_count": 65,
   "id": "2c2ac661",
   "metadata": {},
   "outputs": [
    {
     "data": {
      "text/plain": [
       "matrix([[0.        , 0.        , 0.        , 0.61980538, 0.48133417,\n",
       "         0.61980538],\n",
       "        [0.63174505, 0.        , 0.        , 0.4804584 , 0.37311881,\n",
       "         0.4804584 ],\n",
       "        [0.        , 0.65249088, 0.65249088, 0.        , 0.38537163,\n",
       "         0.        ]])"
      ]
     },
     "execution_count": 65,
     "metadata": {},
     "output_type": "execute_result"
    }
   ],
   "source": [
    "tv_results.todense()"
   ]
  },
  {
   "cell_type": "code",
   "execution_count": null,
   "id": "3008ebea",
   "metadata": {},
   "outputs": [],
   "source": []
  }
 ],
 "metadata": {
  "kernelspec": {
   "display_name": "Python 3 (ipykernel)",
   "language": "python",
   "name": "python3"
  },
  "language_info": {
   "codemirror_mode": {
    "name": "ipython",
    "version": 3
   },
   "file_extension": ".py",
   "mimetype": "text/x-python",
   "name": "python",
   "nbconvert_exporter": "python",
   "pygments_lexer": "ipython3",
   "version": "3.9.12"
  }
 },
 "nbformat": 4,
 "nbformat_minor": 5
}
